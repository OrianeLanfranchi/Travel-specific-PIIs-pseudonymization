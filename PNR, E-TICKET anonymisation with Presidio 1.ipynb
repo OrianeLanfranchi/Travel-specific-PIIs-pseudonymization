{
 "cells": [
  {
   "cell_type": "code",
   "execution_count": 1,
   "id": "e986311c",
   "metadata": {},
   "outputs": [
    {
     "name": "stdout",
     "output_type": "stream",
     "text": [
      "Requirement already satisfied: presidio_anonymizer in ./.venv/lib/python3.12/site-packages (2.2.351)\n",
      "Requirement already satisfied: pycryptodome>=3.10.1 in ./.venv/lib/python3.12/site-packages (from presidio_anonymizer) (3.21.0)\n",
      "Requirement already satisfied: presidio_analyzer in ./.venv/lib/python3.12/site-packages (2.2.351)\n",
      "Requirement already satisfied: spacy<4.0.0,>=3.4.4 in ./.venv/lib/python3.12/site-packages (from presidio_analyzer) (3.8.4)\n",
      "Requirement already satisfied: regex in ./.venv/lib/python3.12/site-packages (from presidio_analyzer) (2024.11.6)\n",
      "Requirement already satisfied: tldextract in ./.venv/lib/python3.12/site-packages (from presidio_analyzer) (5.1.3)\n",
      "Requirement already satisfied: pyyaml in ./.venv/lib/python3.12/site-packages (from presidio_analyzer) (6.0.2)\n",
      "Requirement already satisfied: phonenumbers<9.0.0,>=8.12 in ./.venv/lib/python3.12/site-packages (from presidio_analyzer) (8.13.55)\n",
      "Requirement already satisfied: spacy-legacy<3.1.0,>=3.0.11 in ./.venv/lib/python3.12/site-packages (from spacy<4.0.0,>=3.4.4->presidio_analyzer) (3.0.12)\n",
      "Requirement already satisfied: spacy-loggers<2.0.0,>=1.0.0 in ./.venv/lib/python3.12/site-packages (from spacy<4.0.0,>=3.4.4->presidio_analyzer) (1.0.5)\n",
      "Requirement already satisfied: murmurhash<1.1.0,>=0.28.0 in ./.venv/lib/python3.12/site-packages (from spacy<4.0.0,>=3.4.4->presidio_analyzer) (1.0.12)\n",
      "Requirement already satisfied: cymem<2.1.0,>=2.0.2 in ./.venv/lib/python3.12/site-packages (from spacy<4.0.0,>=3.4.4->presidio_analyzer) (2.0.11)\n",
      "Requirement already satisfied: preshed<3.1.0,>=3.0.2 in ./.venv/lib/python3.12/site-packages (from spacy<4.0.0,>=3.4.4->presidio_analyzer) (3.0.9)\n",
      "Requirement already satisfied: thinc<8.4.0,>=8.3.4 in ./.venv/lib/python3.12/site-packages (from spacy<4.0.0,>=3.4.4->presidio_analyzer) (8.3.4)\n",
      "Requirement already satisfied: wasabi<1.2.0,>=0.9.1 in ./.venv/lib/python3.12/site-packages (from spacy<4.0.0,>=3.4.4->presidio_analyzer) (1.1.3)\n",
      "Requirement already satisfied: srsly<3.0.0,>=2.4.3 in ./.venv/lib/python3.12/site-packages (from spacy<4.0.0,>=3.4.4->presidio_analyzer) (2.5.1)\n",
      "Requirement already satisfied: catalogue<2.1.0,>=2.0.6 in ./.venv/lib/python3.12/site-packages (from spacy<4.0.0,>=3.4.4->presidio_analyzer) (2.0.10)\n",
      "Requirement already satisfied: weasel<0.5.0,>=0.1.0 in ./.venv/lib/python3.12/site-packages (from spacy<4.0.0,>=3.4.4->presidio_analyzer) (0.4.1)\n",
      "Requirement already satisfied: typer<1.0.0,>=0.3.0 in ./.venv/lib/python3.12/site-packages (from spacy<4.0.0,>=3.4.4->presidio_analyzer) (0.15.2)\n",
      "Requirement already satisfied: tqdm<5.0.0,>=4.38.0 in ./.venv/lib/python3.12/site-packages (from spacy<4.0.0,>=3.4.4->presidio_analyzer) (4.67.1)\n",
      "Requirement already satisfied: numpy>=1.19.0 in ./.venv/lib/python3.12/site-packages (from spacy<4.0.0,>=3.4.4->presidio_analyzer) (1.26.4)\n",
      "Requirement already satisfied: requests<3.0.0,>=2.13.0 in ./.venv/lib/python3.12/site-packages (from spacy<4.0.0,>=3.4.4->presidio_analyzer) (2.32.3)\n",
      "Requirement already satisfied: pydantic!=1.8,!=1.8.1,<3.0.0,>=1.7.4 in ./.venv/lib/python3.12/site-packages (from spacy<4.0.0,>=3.4.4->presidio_analyzer) (2.10.6)\n",
      "Requirement already satisfied: jinja2 in ./.venv/lib/python3.12/site-packages (from spacy<4.0.0,>=3.4.4->presidio_analyzer) (3.1.5)\n",
      "Requirement already satisfied: setuptools in ./.venv/lib/python3.12/site-packages (from spacy<4.0.0,>=3.4.4->presidio_analyzer) (75.8.2)\n",
      "Requirement already satisfied: packaging>=20.0 in ./.venv/lib/python3.12/site-packages (from spacy<4.0.0,>=3.4.4->presidio_analyzer) (24.2)\n",
      "Requirement already satisfied: langcodes<4.0.0,>=3.2.0 in ./.venv/lib/python3.12/site-packages (from spacy<4.0.0,>=3.4.4->presidio_analyzer) (3.5.0)\n",
      "Requirement already satisfied: idna in ./.venv/lib/python3.12/site-packages (from tldextract->presidio_analyzer) (3.10)\n",
      "Requirement already satisfied: requests-file>=1.4 in ./.venv/lib/python3.12/site-packages (from tldextract->presidio_analyzer) (2.1.0)\n",
      "Requirement already satisfied: filelock>=3.0.8 in ./.venv/lib/python3.12/site-packages (from tldextract->presidio_analyzer) (3.17.0)\n",
      "Requirement already satisfied: language-data>=1.2 in ./.venv/lib/python3.12/site-packages (from langcodes<4.0.0,>=3.2.0->spacy<4.0.0,>=3.4.4->presidio_analyzer) (1.3.0)\n",
      "Requirement already satisfied: annotated-types>=0.6.0 in ./.venv/lib/python3.12/site-packages (from pydantic!=1.8,!=1.8.1,<3.0.0,>=1.7.4->spacy<4.0.0,>=3.4.4->presidio_analyzer) (0.7.0)\n",
      "Requirement already satisfied: pydantic-core==2.27.2 in ./.venv/lib/python3.12/site-packages (from pydantic!=1.8,!=1.8.1,<3.0.0,>=1.7.4->spacy<4.0.0,>=3.4.4->presidio_analyzer) (2.27.2)\n",
      "Requirement already satisfied: typing-extensions>=4.12.2 in ./.venv/lib/python3.12/site-packages (from pydantic!=1.8,!=1.8.1,<3.0.0,>=1.7.4->spacy<4.0.0,>=3.4.4->presidio_analyzer) (4.12.2)\n",
      "Requirement already satisfied: charset-normalizer<4,>=2 in ./.venv/lib/python3.12/site-packages (from requests<3.0.0,>=2.13.0->spacy<4.0.0,>=3.4.4->presidio_analyzer) (3.4.1)\n",
      "Requirement already satisfied: urllib3<3,>=1.21.1 in ./.venv/lib/python3.12/site-packages (from requests<3.0.0,>=2.13.0->spacy<4.0.0,>=3.4.4->presidio_analyzer) (2.3.0)\n",
      "Requirement already satisfied: certifi>=2017.4.17 in ./.venv/lib/python3.12/site-packages (from requests<3.0.0,>=2.13.0->spacy<4.0.0,>=3.4.4->presidio_analyzer) (2025.1.31)\n",
      "Requirement already satisfied: blis<1.3.0,>=1.2.0 in ./.venv/lib/python3.12/site-packages (from thinc<8.4.0,>=8.3.4->spacy<4.0.0,>=3.4.4->presidio_analyzer) (1.2.0)\n",
      "Requirement already satisfied: confection<1.0.0,>=0.0.1 in ./.venv/lib/python3.12/site-packages (from thinc<8.4.0,>=8.3.4->spacy<4.0.0,>=3.4.4->presidio_analyzer) (0.1.5)\n",
      "Requirement already satisfied: click>=8.0.0 in ./.venv/lib/python3.12/site-packages (from typer<1.0.0,>=0.3.0->spacy<4.0.0,>=3.4.4->presidio_analyzer) (8.1.8)\n",
      "Requirement already satisfied: shellingham>=1.3.0 in ./.venv/lib/python3.12/site-packages (from typer<1.0.0,>=0.3.0->spacy<4.0.0,>=3.4.4->presidio_analyzer) (1.5.4)\n",
      "Requirement already satisfied: rich>=10.11.0 in ./.venv/lib/python3.12/site-packages (from typer<1.0.0,>=0.3.0->spacy<4.0.0,>=3.4.4->presidio_analyzer) (13.9.4)\n",
      "Requirement already satisfied: cloudpathlib<1.0.0,>=0.7.0 in ./.venv/lib/python3.12/site-packages (from weasel<0.5.0,>=0.1.0->spacy<4.0.0,>=3.4.4->presidio_analyzer) (0.20.0)\n",
      "Requirement already satisfied: smart-open<8.0.0,>=5.2.1 in ./.venv/lib/python3.12/site-packages (from weasel<0.5.0,>=0.1.0->spacy<4.0.0,>=3.4.4->presidio_analyzer) (7.1.0)\n",
      "Requirement already satisfied: MarkupSafe>=2.0 in ./.venv/lib/python3.12/site-packages (from jinja2->spacy<4.0.0,>=3.4.4->presidio_analyzer) (3.0.2)\n",
      "Requirement already satisfied: marisa-trie>=1.1.0 in ./.venv/lib/python3.12/site-packages (from language-data>=1.2->langcodes<4.0.0,>=3.2.0->spacy<4.0.0,>=3.4.4->presidio_analyzer) (1.2.1)\n",
      "Requirement already satisfied: markdown-it-py>=2.2.0 in ./.venv/lib/python3.12/site-packages (from rich>=10.11.0->typer<1.0.0,>=0.3.0->spacy<4.0.0,>=3.4.4->presidio_analyzer) (3.0.0)\n",
      "Requirement already satisfied: pygments<3.0.0,>=2.13.0 in ./.venv/lib/python3.12/site-packages (from rich>=10.11.0->typer<1.0.0,>=0.3.0->spacy<4.0.0,>=3.4.4->presidio_analyzer) (2.19.1)\n",
      "Requirement already satisfied: wrapt in ./.venv/lib/python3.12/site-packages (from smart-open<8.0.0,>=5.2.1->weasel<0.5.0,>=0.1.0->spacy<4.0.0,>=3.4.4->presidio_analyzer) (1.17.2)\n",
      "Requirement already satisfied: mdurl~=0.1 in ./.venv/lib/python3.12/site-packages (from markdown-it-py>=2.2.0->rich>=10.11.0->typer<1.0.0,>=0.3.0->spacy<4.0.0,>=3.4.4->presidio_analyzer) (0.1.2)\n",
      "Collecting python-dotenv\n",
      "  Downloading python_dotenv-1.0.1-py3-none-any.whl.metadata (23 kB)\n",
      "Downloading python_dotenv-1.0.1-py3-none-any.whl (19 kB)\n",
      "Installing collected packages: python-dotenv\n",
      "Successfully installed python-dotenv-1.0.1\n",
      "Requirement already satisfied: langchain in ./.venv/lib/python3.12/site-packages (0.2.11)\n",
      "Requirement already satisfied: PyYAML>=5.3 in ./.venv/lib/python3.12/site-packages (from langchain) (6.0.2)\n",
      "Requirement already satisfied: SQLAlchemy<3,>=1.4 in ./.venv/lib/python3.12/site-packages (from langchain) (2.0.38)\n",
      "Requirement already satisfied: aiohttp<4.0.0,>=3.8.3 in ./.venv/lib/python3.12/site-packages (from langchain) (3.11.13)\n",
      "Requirement already satisfied: langchain-core<0.3.0,>=0.2.23 in ./.venv/lib/python3.12/site-packages (from langchain) (0.2.43)\n",
      "Requirement already satisfied: langchain-text-splitters<0.3.0,>=0.2.0 in ./.venv/lib/python3.12/site-packages (from langchain) (0.2.4)\n",
      "Requirement already satisfied: langsmith<0.2.0,>=0.1.17 in ./.venv/lib/python3.12/site-packages (from langchain) (0.1.147)\n",
      "Requirement already satisfied: numpy<2.0.0,>=1.26.0 in ./.venv/lib/python3.12/site-packages (from langchain) (1.26.4)\n",
      "Requirement already satisfied: pydantic<3,>=1 in ./.venv/lib/python3.12/site-packages (from langchain) (2.10.6)\n",
      "Requirement already satisfied: requests<3,>=2 in ./.venv/lib/python3.12/site-packages (from langchain) (2.32.3)\n",
      "Requirement already satisfied: tenacity!=8.4.0,<9.0.0,>=8.1.0 in ./.venv/lib/python3.12/site-packages (from langchain) (8.5.0)\n",
      "Requirement already satisfied: aiohappyeyeballs>=2.3.0 in ./.venv/lib/python3.12/site-packages (from aiohttp<4.0.0,>=3.8.3->langchain) (2.4.6)\n",
      "Requirement already satisfied: aiosignal>=1.1.2 in ./.venv/lib/python3.12/site-packages (from aiohttp<4.0.0,>=3.8.3->langchain) (1.3.2)\n",
      "Requirement already satisfied: attrs>=17.3.0 in ./.venv/lib/python3.12/site-packages (from aiohttp<4.0.0,>=3.8.3->langchain) (25.1.0)\n",
      "Requirement already satisfied: frozenlist>=1.1.1 in ./.venv/lib/python3.12/site-packages (from aiohttp<4.0.0,>=3.8.3->langchain) (1.5.0)\n",
      "Requirement already satisfied: multidict<7.0,>=4.5 in ./.venv/lib/python3.12/site-packages (from aiohttp<4.0.0,>=3.8.3->langchain) (6.1.0)\n",
      "Requirement already satisfied: propcache>=0.2.0 in ./.venv/lib/python3.12/site-packages (from aiohttp<4.0.0,>=3.8.3->langchain) (0.3.0)\n",
      "Requirement already satisfied: yarl<2.0,>=1.17.0 in ./.venv/lib/python3.12/site-packages (from aiohttp<4.0.0,>=3.8.3->langchain) (1.18.3)\n",
      "Requirement already satisfied: jsonpatch<2.0,>=1.33 in ./.venv/lib/python3.12/site-packages (from langchain-core<0.3.0,>=0.2.23->langchain) (1.33)\n",
      "Requirement already satisfied: packaging<25,>=23.2 in ./.venv/lib/python3.12/site-packages (from langchain-core<0.3.0,>=0.2.23->langchain) (24.2)\n",
      "Requirement already satisfied: typing-extensions>=4.7 in ./.venv/lib/python3.12/site-packages (from langchain-core<0.3.0,>=0.2.23->langchain) (4.12.2)\n",
      "Requirement already satisfied: httpx<1,>=0.23.0 in ./.venv/lib/python3.12/site-packages (from langsmith<0.2.0,>=0.1.17->langchain) (0.28.1)\n",
      "Requirement already satisfied: orjson<4.0.0,>=3.9.14 in ./.venv/lib/python3.12/site-packages (from langsmith<0.2.0,>=0.1.17->langchain) (3.10.15)\n",
      "Requirement already satisfied: requests-toolbelt<2.0.0,>=1.0.0 in ./.venv/lib/python3.12/site-packages (from langsmith<0.2.0,>=0.1.17->langchain) (1.0.0)\n",
      "Requirement already satisfied: annotated-types>=0.6.0 in ./.venv/lib/python3.12/site-packages (from pydantic<3,>=1->langchain) (0.7.0)\n",
      "Requirement already satisfied: pydantic-core==2.27.2 in ./.venv/lib/python3.12/site-packages (from pydantic<3,>=1->langchain) (2.27.2)\n",
      "Requirement already satisfied: charset-normalizer<4,>=2 in ./.venv/lib/python3.12/site-packages (from requests<3,>=2->langchain) (3.4.1)\n",
      "Requirement already satisfied: idna<4,>=2.5 in ./.venv/lib/python3.12/site-packages (from requests<3,>=2->langchain) (3.10)\n",
      "Requirement already satisfied: urllib3<3,>=1.21.1 in ./.venv/lib/python3.12/site-packages (from requests<3,>=2->langchain) (2.3.0)\n",
      "Requirement already satisfied: certifi>=2017.4.17 in ./.venv/lib/python3.12/site-packages (from requests<3,>=2->langchain) (2025.1.31)\n",
      "Requirement already satisfied: greenlet!=0.4.17 in ./.venv/lib/python3.12/site-packages (from SQLAlchemy<3,>=1.4->langchain) (3.1.1)\n",
      "Requirement already satisfied: anyio in ./.venv/lib/python3.12/site-packages (from httpx<1,>=0.23.0->langsmith<0.2.0,>=0.1.17->langchain) (4.8.0)\n",
      "Requirement already satisfied: httpcore==1.* in ./.venv/lib/python3.12/site-packages (from httpx<1,>=0.23.0->langsmith<0.2.0,>=0.1.17->langchain) (1.0.7)\n",
      "Requirement already satisfied: h11<0.15,>=0.13 in ./.venv/lib/python3.12/site-packages (from httpcore==1.*->httpx<1,>=0.23.0->langsmith<0.2.0,>=0.1.17->langchain) (0.14.0)\n",
      "Requirement already satisfied: jsonpointer>=1.9 in ./.venv/lib/python3.12/site-packages (from jsonpatch<2.0,>=1.33->langchain-core<0.3.0,>=0.2.23->langchain) (3.0.0)\n",
      "Requirement already satisfied: sniffio>=1.1 in ./.venv/lib/python3.12/site-packages (from anyio->httpx<1,>=0.23.0->langsmith<0.2.0,>=0.1.17->langchain) (1.3.1)\n",
      "Requirement already satisfied: langchain_experimental in ./.venv/lib/python3.12/site-packages (0.0.42)\n",
      "Requirement already satisfied: langchain>=0.0.308 in ./.venv/lib/python3.12/site-packages (from langchain_experimental) (0.2.11)\n",
      "Requirement already satisfied: PyYAML>=5.3 in ./.venv/lib/python3.12/site-packages (from langchain>=0.0.308->langchain_experimental) (6.0.2)\n",
      "Requirement already satisfied: SQLAlchemy<3,>=1.4 in ./.venv/lib/python3.12/site-packages (from langchain>=0.0.308->langchain_experimental) (2.0.38)\n",
      "Requirement already satisfied: aiohttp<4.0.0,>=3.8.3 in ./.venv/lib/python3.12/site-packages (from langchain>=0.0.308->langchain_experimental) (3.11.13)\n",
      "Requirement already satisfied: langchain-core<0.3.0,>=0.2.23 in ./.venv/lib/python3.12/site-packages (from langchain>=0.0.308->langchain_experimental) (0.2.43)\n",
      "Requirement already satisfied: langchain-text-splitters<0.3.0,>=0.2.0 in ./.venv/lib/python3.12/site-packages (from langchain>=0.0.308->langchain_experimental) (0.2.4)\n",
      "Requirement already satisfied: langsmith<0.2.0,>=0.1.17 in ./.venv/lib/python3.12/site-packages (from langchain>=0.0.308->langchain_experimental) (0.1.147)\n",
      "Requirement already satisfied: numpy<2.0.0,>=1.26.0 in ./.venv/lib/python3.12/site-packages (from langchain>=0.0.308->langchain_experimental) (1.26.4)\n",
      "Requirement already satisfied: pydantic<3,>=1 in ./.venv/lib/python3.12/site-packages (from langchain>=0.0.308->langchain_experimental) (2.10.6)\n",
      "Requirement already satisfied: requests<3,>=2 in ./.venv/lib/python3.12/site-packages (from langchain>=0.0.308->langchain_experimental) (2.32.3)\n",
      "Requirement already satisfied: tenacity!=8.4.0,<9.0.0,>=8.1.0 in ./.venv/lib/python3.12/site-packages (from langchain>=0.0.308->langchain_experimental) (8.5.0)\n",
      "Requirement already satisfied: aiohappyeyeballs>=2.3.0 in ./.venv/lib/python3.12/site-packages (from aiohttp<4.0.0,>=3.8.3->langchain>=0.0.308->langchain_experimental) (2.4.6)\n",
      "Requirement already satisfied: aiosignal>=1.1.2 in ./.venv/lib/python3.12/site-packages (from aiohttp<4.0.0,>=3.8.3->langchain>=0.0.308->langchain_experimental) (1.3.2)\n",
      "Requirement already satisfied: attrs>=17.3.0 in ./.venv/lib/python3.12/site-packages (from aiohttp<4.0.0,>=3.8.3->langchain>=0.0.308->langchain_experimental) (25.1.0)\n",
      "Requirement already satisfied: frozenlist>=1.1.1 in ./.venv/lib/python3.12/site-packages (from aiohttp<4.0.0,>=3.8.3->langchain>=0.0.308->langchain_experimental) (1.5.0)\n",
      "Requirement already satisfied: multidict<7.0,>=4.5 in ./.venv/lib/python3.12/site-packages (from aiohttp<4.0.0,>=3.8.3->langchain>=0.0.308->langchain_experimental) (6.1.0)\n",
      "Requirement already satisfied: propcache>=0.2.0 in ./.venv/lib/python3.12/site-packages (from aiohttp<4.0.0,>=3.8.3->langchain>=0.0.308->langchain_experimental) (0.3.0)\n",
      "Requirement already satisfied: yarl<2.0,>=1.17.0 in ./.venv/lib/python3.12/site-packages (from aiohttp<4.0.0,>=3.8.3->langchain>=0.0.308->langchain_experimental) (1.18.3)\n",
      "Requirement already satisfied: jsonpatch<2.0,>=1.33 in ./.venv/lib/python3.12/site-packages (from langchain-core<0.3.0,>=0.2.23->langchain>=0.0.308->langchain_experimental) (1.33)\n",
      "Requirement already satisfied: packaging<25,>=23.2 in ./.venv/lib/python3.12/site-packages (from langchain-core<0.3.0,>=0.2.23->langchain>=0.0.308->langchain_experimental) (24.2)\n",
      "Requirement already satisfied: typing-extensions>=4.7 in ./.venv/lib/python3.12/site-packages (from langchain-core<0.3.0,>=0.2.23->langchain>=0.0.308->langchain_experimental) (4.12.2)\n",
      "Requirement already satisfied: httpx<1,>=0.23.0 in ./.venv/lib/python3.12/site-packages (from langsmith<0.2.0,>=0.1.17->langchain>=0.0.308->langchain_experimental) (0.28.1)\n",
      "Requirement already satisfied: orjson<4.0.0,>=3.9.14 in ./.venv/lib/python3.12/site-packages (from langsmith<0.2.0,>=0.1.17->langchain>=0.0.308->langchain_experimental) (3.10.15)\n",
      "Requirement already satisfied: requests-toolbelt<2.0.0,>=1.0.0 in ./.venv/lib/python3.12/site-packages (from langsmith<0.2.0,>=0.1.17->langchain>=0.0.308->langchain_experimental) (1.0.0)\n",
      "Requirement already satisfied: annotated-types>=0.6.0 in ./.venv/lib/python3.12/site-packages (from pydantic<3,>=1->langchain>=0.0.308->langchain_experimental) (0.7.0)\n",
      "Requirement already satisfied: pydantic-core==2.27.2 in ./.venv/lib/python3.12/site-packages (from pydantic<3,>=1->langchain>=0.0.308->langchain_experimental) (2.27.2)\n",
      "Requirement already satisfied: charset-normalizer<4,>=2 in ./.venv/lib/python3.12/site-packages (from requests<3,>=2->langchain>=0.0.308->langchain_experimental) (3.4.1)\n",
      "Requirement already satisfied: idna<4,>=2.5 in ./.venv/lib/python3.12/site-packages (from requests<3,>=2->langchain>=0.0.308->langchain_experimental) (3.10)\n",
      "Requirement already satisfied: urllib3<3,>=1.21.1 in ./.venv/lib/python3.12/site-packages (from requests<3,>=2->langchain>=0.0.308->langchain_experimental) (2.3.0)\n",
      "Requirement already satisfied: certifi>=2017.4.17 in ./.venv/lib/python3.12/site-packages (from requests<3,>=2->langchain>=0.0.308->langchain_experimental) (2025.1.31)\n",
      "Requirement already satisfied: greenlet!=0.4.17 in ./.venv/lib/python3.12/site-packages (from SQLAlchemy<3,>=1.4->langchain>=0.0.308->langchain_experimental) (3.1.1)\n",
      "Requirement already satisfied: anyio in ./.venv/lib/python3.12/site-packages (from httpx<1,>=0.23.0->langsmith<0.2.0,>=0.1.17->langchain>=0.0.308->langchain_experimental) (4.8.0)\n",
      "Requirement already satisfied: httpcore==1.* in ./.venv/lib/python3.12/site-packages (from httpx<1,>=0.23.0->langsmith<0.2.0,>=0.1.17->langchain>=0.0.308->langchain_experimental) (1.0.7)\n",
      "Requirement already satisfied: h11<0.15,>=0.13 in ./.venv/lib/python3.12/site-packages (from httpcore==1.*->httpx<1,>=0.23.0->langsmith<0.2.0,>=0.1.17->langchain>=0.0.308->langchain_experimental) (0.14.0)\n",
      "Requirement already satisfied: jsonpointer>=1.9 in ./.venv/lib/python3.12/site-packages (from jsonpatch<2.0,>=1.33->langchain-core<0.3.0,>=0.2.23->langchain>=0.0.308->langchain_experimental) (3.0.0)\n",
      "Requirement already satisfied: sniffio>=1.1 in ./.venv/lib/python3.12/site-packages (from anyio->httpx<1,>=0.23.0->langsmith<0.2.0,>=0.1.17->langchain>=0.0.308->langchain_experimental) (1.3.1)\n",
      "Requirement already satisfied: presidio-analyzer in ./.venv/lib/python3.12/site-packages (2.2.351)\n",
      "Requirement already satisfied: spacy<4.0.0,>=3.4.4 in ./.venv/lib/python3.12/site-packages (from presidio-analyzer) (3.8.4)\n",
      "Requirement already satisfied: regex in ./.venv/lib/python3.12/site-packages (from presidio-analyzer) (2024.11.6)\n",
      "Requirement already satisfied: tldextract in ./.venv/lib/python3.12/site-packages (from presidio-analyzer) (5.1.3)\n",
      "Requirement already satisfied: pyyaml in ./.venv/lib/python3.12/site-packages (from presidio-analyzer) (6.0.2)\n",
      "Requirement already satisfied: phonenumbers<9.0.0,>=8.12 in ./.venv/lib/python3.12/site-packages (from presidio-analyzer) (8.13.55)\n",
      "Requirement already satisfied: spacy-legacy<3.1.0,>=3.0.11 in ./.venv/lib/python3.12/site-packages (from spacy<4.0.0,>=3.4.4->presidio-analyzer) (3.0.12)\n",
      "Requirement already satisfied: spacy-loggers<2.0.0,>=1.0.0 in ./.venv/lib/python3.12/site-packages (from spacy<4.0.0,>=3.4.4->presidio-analyzer) (1.0.5)\n",
      "Requirement already satisfied: murmurhash<1.1.0,>=0.28.0 in ./.venv/lib/python3.12/site-packages (from spacy<4.0.0,>=3.4.4->presidio-analyzer) (1.0.12)\n",
      "Requirement already satisfied: cymem<2.1.0,>=2.0.2 in ./.venv/lib/python3.12/site-packages (from spacy<4.0.0,>=3.4.4->presidio-analyzer) (2.0.11)\n",
      "Requirement already satisfied: preshed<3.1.0,>=3.0.2 in ./.venv/lib/python3.12/site-packages (from spacy<4.0.0,>=3.4.4->presidio-analyzer) (3.0.9)\n",
      "Requirement already satisfied: thinc<8.4.0,>=8.3.4 in ./.venv/lib/python3.12/site-packages (from spacy<4.0.0,>=3.4.4->presidio-analyzer) (8.3.4)\n",
      "Requirement already satisfied: wasabi<1.2.0,>=0.9.1 in ./.venv/lib/python3.12/site-packages (from spacy<4.0.0,>=3.4.4->presidio-analyzer) (1.1.3)\n",
      "Requirement already satisfied: srsly<3.0.0,>=2.4.3 in ./.venv/lib/python3.12/site-packages (from spacy<4.0.0,>=3.4.4->presidio-analyzer) (2.5.1)\n",
      "Requirement already satisfied: catalogue<2.1.0,>=2.0.6 in ./.venv/lib/python3.12/site-packages (from spacy<4.0.0,>=3.4.4->presidio-analyzer) (2.0.10)\n",
      "Requirement already satisfied: weasel<0.5.0,>=0.1.0 in ./.venv/lib/python3.12/site-packages (from spacy<4.0.0,>=3.4.4->presidio-analyzer) (0.4.1)\n",
      "Requirement already satisfied: typer<1.0.0,>=0.3.0 in ./.venv/lib/python3.12/site-packages (from spacy<4.0.0,>=3.4.4->presidio-analyzer) (0.15.2)\n",
      "Requirement already satisfied: tqdm<5.0.0,>=4.38.0 in ./.venv/lib/python3.12/site-packages (from spacy<4.0.0,>=3.4.4->presidio-analyzer) (4.67.1)\n",
      "Requirement already satisfied: numpy>=1.19.0 in ./.venv/lib/python3.12/site-packages (from spacy<4.0.0,>=3.4.4->presidio-analyzer) (1.26.4)\n",
      "Requirement already satisfied: requests<3.0.0,>=2.13.0 in ./.venv/lib/python3.12/site-packages (from spacy<4.0.0,>=3.4.4->presidio-analyzer) (2.32.3)\n",
      "Requirement already satisfied: pydantic!=1.8,!=1.8.1,<3.0.0,>=1.7.4 in ./.venv/lib/python3.12/site-packages (from spacy<4.0.0,>=3.4.4->presidio-analyzer) (2.10.6)\n",
      "Requirement already satisfied: jinja2 in ./.venv/lib/python3.12/site-packages (from spacy<4.0.0,>=3.4.4->presidio-analyzer) (3.1.5)\n",
      "Requirement already satisfied: setuptools in ./.venv/lib/python3.12/site-packages (from spacy<4.0.0,>=3.4.4->presidio-analyzer) (75.8.2)\n",
      "Requirement already satisfied: packaging>=20.0 in ./.venv/lib/python3.12/site-packages (from spacy<4.0.0,>=3.4.4->presidio-analyzer) (24.2)\n",
      "Requirement already satisfied: langcodes<4.0.0,>=3.2.0 in ./.venv/lib/python3.12/site-packages (from spacy<4.0.0,>=3.4.4->presidio-analyzer) (3.5.0)\n",
      "Requirement already satisfied: idna in ./.venv/lib/python3.12/site-packages (from tldextract->presidio-analyzer) (3.10)\n",
      "Requirement already satisfied: requests-file>=1.4 in ./.venv/lib/python3.12/site-packages (from tldextract->presidio-analyzer) (2.1.0)\n",
      "Requirement already satisfied: filelock>=3.0.8 in ./.venv/lib/python3.12/site-packages (from tldextract->presidio-analyzer) (3.17.0)\n",
      "Requirement already satisfied: language-data>=1.2 in ./.venv/lib/python3.12/site-packages (from langcodes<4.0.0,>=3.2.0->spacy<4.0.0,>=3.4.4->presidio-analyzer) (1.3.0)\n",
      "Requirement already satisfied: annotated-types>=0.6.0 in ./.venv/lib/python3.12/site-packages (from pydantic!=1.8,!=1.8.1,<3.0.0,>=1.7.4->spacy<4.0.0,>=3.4.4->presidio-analyzer) (0.7.0)\n",
      "Requirement already satisfied: pydantic-core==2.27.2 in ./.venv/lib/python3.12/site-packages (from pydantic!=1.8,!=1.8.1,<3.0.0,>=1.7.4->spacy<4.0.0,>=3.4.4->presidio-analyzer) (2.27.2)\n",
      "Requirement already satisfied: typing-extensions>=4.12.2 in ./.venv/lib/python3.12/site-packages (from pydantic!=1.8,!=1.8.1,<3.0.0,>=1.7.4->spacy<4.0.0,>=3.4.4->presidio-analyzer) (4.12.2)\n",
      "Requirement already satisfied: charset-normalizer<4,>=2 in ./.venv/lib/python3.12/site-packages (from requests<3.0.0,>=2.13.0->spacy<4.0.0,>=3.4.4->presidio-analyzer) (3.4.1)\n",
      "Requirement already satisfied: urllib3<3,>=1.21.1 in ./.venv/lib/python3.12/site-packages (from requests<3.0.0,>=2.13.0->spacy<4.0.0,>=3.4.4->presidio-analyzer) (2.3.0)\n",
      "Requirement already satisfied: certifi>=2017.4.17 in ./.venv/lib/python3.12/site-packages (from requests<3.0.0,>=2.13.0->spacy<4.0.0,>=3.4.4->presidio-analyzer) (2025.1.31)\n",
      "Requirement already satisfied: blis<1.3.0,>=1.2.0 in ./.venv/lib/python3.12/site-packages (from thinc<8.4.0,>=8.3.4->spacy<4.0.0,>=3.4.4->presidio-analyzer) (1.2.0)\n",
      "Requirement already satisfied: confection<1.0.0,>=0.0.1 in ./.venv/lib/python3.12/site-packages (from thinc<8.4.0,>=8.3.4->spacy<4.0.0,>=3.4.4->presidio-analyzer) (0.1.5)\n",
      "Requirement already satisfied: click>=8.0.0 in ./.venv/lib/python3.12/site-packages (from typer<1.0.0,>=0.3.0->spacy<4.0.0,>=3.4.4->presidio-analyzer) (8.1.8)\n",
      "Requirement already satisfied: shellingham>=1.3.0 in ./.venv/lib/python3.12/site-packages (from typer<1.0.0,>=0.3.0->spacy<4.0.0,>=3.4.4->presidio-analyzer) (1.5.4)\n",
      "Requirement already satisfied: rich>=10.11.0 in ./.venv/lib/python3.12/site-packages (from typer<1.0.0,>=0.3.0->spacy<4.0.0,>=3.4.4->presidio-analyzer) (13.9.4)\n",
      "Requirement already satisfied: cloudpathlib<1.0.0,>=0.7.0 in ./.venv/lib/python3.12/site-packages (from weasel<0.5.0,>=0.1.0->spacy<4.0.0,>=3.4.4->presidio-analyzer) (0.20.0)\n",
      "Requirement already satisfied: smart-open<8.0.0,>=5.2.1 in ./.venv/lib/python3.12/site-packages (from weasel<0.5.0,>=0.1.0->spacy<4.0.0,>=3.4.4->presidio-analyzer) (7.1.0)\n",
      "Requirement already satisfied: MarkupSafe>=2.0 in ./.venv/lib/python3.12/site-packages (from jinja2->spacy<4.0.0,>=3.4.4->presidio-analyzer) (3.0.2)\n",
      "Requirement already satisfied: marisa-trie>=1.1.0 in ./.venv/lib/python3.12/site-packages (from language-data>=1.2->langcodes<4.0.0,>=3.2.0->spacy<4.0.0,>=3.4.4->presidio-analyzer) (1.2.1)\n",
      "Requirement already satisfied: markdown-it-py>=2.2.0 in ./.venv/lib/python3.12/site-packages (from rich>=10.11.0->typer<1.0.0,>=0.3.0->spacy<4.0.0,>=3.4.4->presidio-analyzer) (3.0.0)\n",
      "Requirement already satisfied: pygments<3.0.0,>=2.13.0 in ./.venv/lib/python3.12/site-packages (from rich>=10.11.0->typer<1.0.0,>=0.3.0->spacy<4.0.0,>=3.4.4->presidio-analyzer) (2.19.1)\n",
      "Requirement already satisfied: wrapt in ./.venv/lib/python3.12/site-packages (from smart-open<8.0.0,>=5.2.1->weasel<0.5.0,>=0.1.0->spacy<4.0.0,>=3.4.4->presidio-analyzer) (1.17.2)\n",
      "Requirement already satisfied: mdurl~=0.1 in ./.venv/lib/python3.12/site-packages (from markdown-it-py>=2.2.0->rich>=10.11.0->typer<1.0.0,>=0.3.0->spacy<4.0.0,>=3.4.4->presidio-analyzer) (0.1.2)\n",
      "Requirement already satisfied: presidio-anonymizer in ./.venv/lib/python3.12/site-packages (2.2.351)\n",
      "Requirement already satisfied: pycryptodome>=3.10.1 in ./.venv/lib/python3.12/site-packages (from presidio-anonymizer) (3.21.0)\n",
      "Requirement already satisfied: Faker in ./.venv/lib/python3.12/site-packages (20.1.0)\n",
      "Requirement already satisfied: python-dateutil>=2.4 in ./.venv/lib/python3.12/site-packages (from Faker) (2.9.0.post0)\n",
      "Requirement already satisfied: six>=1.5 in ./.venv/lib/python3.12/site-packages (from python-dateutil>=2.4->Faker) (1.17.0)\n",
      "Collecting pip-system-certs\n",
      "  Downloading pip_system_certs-4.0-py2.py3-none-any.whl.metadata (1.6 kB)\n",
      "Requirement already satisfied: wrapt>=1.10.4 in ./.venv/lib/python3.12/site-packages (from pip-system-certs) (1.17.2)\n",
      "Downloading pip_system_certs-4.0-py2.py3-none-any.whl (6.1 kB)\n",
      "Installing collected packages: pip-system-certs\n",
      "Successfully installed pip-system-certs-4.0\n"
     ]
    }
   ],
   "source": [
    "!pip install presidio_anonymizer\n",
    "!pip install presidio_analyzer\n",
    "!pip install python-dotenv\n",
    "!pip install langchain\n",
    "!pip install langchain_experimental\n",
    "!pip install presidio-analyzer\n",
    "!pip install presidio-anonymizer\n",
    "!pip install Faker\n",
    "!pip install pip-system-certs"
   ]
  },
  {
   "cell_type": "code",
   "execution_count": 2,
   "id": "caf24b7e",
   "metadata": {},
   "outputs": [
    {
     "name": "stdout",
     "output_type": "stream",
     "text": [
      "hello world\n"
     ]
    }
   ],
   "source": [
    "print(\"hello world\")"
   ]
  },
  {
   "cell_type": "code",
   "execution_count": 1,
   "id": "a0f4a14a",
   "metadata": {},
   "outputs": [],
   "source": [
    "document_content = \"\"\"Date: October 19, 2021\n",
    "Hello Customer Service,\n",
    "\n",
    "Subject: Claim Regarding Multiple Lost Luggages\n",
    "\n",
    "Hello Customer Service,\n",
    "\n",
    "I am writing to report the loss of multiple pieces of luggage associated with my recent flights. Below, I'm providing you with the necessary details for each affected Passenger Name Record (PNR).\n",
    "\n",
    "The flight information and corresponding PNRs are as follows:\n",
    "\n",
    "\n",
    "1. PNR: LHKQK9 - E-ticket: 123-4567890123\n",
    "2. PNR: RTKPP3 - E-ticket: 234-5678901234\n",
    "\n",
    "My contact information remains the same: phone number 999-888-7777 and email johndoe@example.com.\n",
    "\n",
    "Please treat this information with the utmost confidentiality and respect for my privacy. In case of any updates regarding my lost luggage, feel free to contact me via the provided phone number or email.\n",
    "\n",
    "Your prompt assistance in resolving this matter is highly appreciated.\n",
    "\n",
    "Thank you for your attention.\n",
    "\n",
    "Sincerely,\n",
    "John Doe\n",
    "\n",
    "\"\"\""
   ]
  },
  {
   "cell_type": "code",
   "execution_count": 2,
   "id": "27d32464",
   "metadata": {},
   "outputs": [
    {
     "name": "stdout",
     "output_type": "stream",
     "text": [
      "Date: October 19, 2021\n",
      "Hello Customer Service,\n",
      "\n",
      "Subject: Claim Regarding Multiple Lost Luggages\n",
      "\n",
      "Hello Customer Service,\n",
      "\n",
      "I am writing to report the loss of multiple pieces of luggage associated with my recent flights. Below, I'm providing you with the necessary details for each affected Passenger Name Record (PNR).\n",
      "\n",
      "The flight information and corresponding PNRs are as follows:\n",
      "\n",
      "\n",
      "1. PNR: LHKQK9 - E-ticket: 123-4567890123\n",
      "2. PNR: RTKPP3 - E-ticket: 234-5678901234\n",
      "\n",
      "My contact information remains the same: phone number 999-888-7777 and email johndoe@example.com.\n",
      "\n",
      "Please treat this information with the utmost confidentiality and respect for my privacy. In case of any updates regarding my lost luggage, feel free to contact me via the provided phone number or email.\n",
      "\n",
      "Your prompt assistance in resolving this matter is highly appreciated.\n",
      "\n",
      "Thank you for your attention.\n",
      "\n",
      "Sincerely,\n",
      "John Doe\n",
      "\n",
      "\n"
     ]
    }
   ],
   "source": [
    "from langchain.schema import Document\n",
    "\n",
    "documents = [Document(page_content=document_content)]\n",
    "print(document_content)"
   ]
  },
  {
   "cell_type": "code",
   "execution_count": 3,
   "id": "76b964b7",
   "metadata": {},
   "outputs": [],
   "source": [
    "# Util function for coloring the PII markers\n",
    "# NOTE: It will not be visible on documentation page, only in the notebook\n",
    "import re\n",
    "\n",
    "def print_colored_pii(string):\n",
    "    colored_string = re.sub(\n",
    "        r\"(<[^>]*>)\", lambda m: \"\\033[31m\" + m.group(1) + \"\\033[0m\", string\n",
    "    )\n",
    "    print(colored_string)"
   ]
  },
  {
   "cell_type": "markdown",
   "id": "7bcb5357",
   "metadata": {},
   "source": [
    "##### Let's proceed and try to anonymize the text with the default settings. For now, we don't replace the data with synthetic, we just\n",
    "##### mark it with markers (e.g. `<PERSON>`), so we set `add_default_faker_operators=False`:"
   ]
  },
  {
   "cell_type": "code",
   "execution_count": 7,
   "id": "86bbf4b2",
   "metadata": {},
   "outputs": [
    {
     "name": "stdout",
     "output_type": "stream",
     "text": [
      "Date: \u001b[31m<DATE_TIME>\u001b[0m\n",
      "Hello Customer Service,\n",
      "\n",
      "Subject: Claim Regarding Multiple Lost Luggages\n",
      "\n",
      "Hello Customer Service,\n",
      "\n",
      "I am writing to report the loss of multiple pieces of luggage associated with my recent flights. Below, I'm providing you with the necessary details for each affected Passenger Name Record (PNR).\n",
      "\n",
      "The flight information and corresponding PNRs are as follows:\n",
      "\n",
      "\n",
      "1. PNR: LHKQK9 - E-ticket: 123-\u001b[31m<US_BANK_NUMBER>\u001b[0m\n",
      "2. PNR: RTKPP3 - E-ticket: 234-\u001b[31m<US_BANK_NUMBER_2>\u001b[0m\n",
      "\n",
      "My contact information remains the same: phone number \u001b[31m<PHONE_NUMBER>\u001b[0m and email \u001b[31m<EMAIL_ADDRESS>\u001b[0m.\n",
      "\n",
      "Please treat this information with the utmost confidentiality and respect for my privacy. In case of any updates regarding my lost luggage, feel free to contact me via the provided phone number or email.\n",
      "\n",
      "Your prompt assistance in resolving this matter is highly appreciated.\n",
      "\n",
      "Thank you for your attention.\n",
      "\n",
      "Sincerely,\n",
      "\u001b[31m<PERSON>\u001b[0m\n",
      "\n",
      "\n"
     ]
    }
   ],
   "source": [
    "from langchain_experimental.data_anonymizer import PresidioReversibleAnonymizer\n",
    "\n",
    "anonymizer = PresidioReversibleAnonymizer(\n",
    "    add_default_faker_operators=False,\n",
    ")\n",
    "\n",
    "print_colored_pii(anonymizer.anonymize(document_content))"
   ]
  },
  {
   "cell_type": "markdown",
   "id": "710f85c0",
   "metadata": {},
   "source": [
    "### Let's also look at the mapping between original and anonymized values:"
   ]
  },
  {
   "cell_type": "code",
   "execution_count": 8,
   "id": "59e638af",
   "metadata": {},
   "outputs": [
    {
     "name": "stdout",
     "output_type": "stream",
     "text": [
      "{'DATE_TIME': {'<DATE_TIME>': 'October 19, 2021'},\n",
      " 'EMAIL_ADDRESS': {'<EMAIL_ADDRESS>': 'johndoe@example.com'},\n",
      " 'PERSON': {'<PERSON>': 'John Doe'},\n",
      " 'PHONE_NUMBER': {'<PHONE_NUMBER>': '999-888-7777'},\n",
      " 'US_BANK_NUMBER': {'<US_BANK_NUMBER>': '4567890123',\n",
      "                    '<US_BANK_NUMBER_2>': '5678901234'}}\n"
     ]
    }
   ],
   "source": [
    "import pprint\n",
    "\n",
    "pprint.pprint(anonymizer.deanonymizer_mapping)"
   ]
  },
  {
   "cell_type": "markdown",
   "id": "77af23de",
   "metadata": {},
   "source": [
    "### In general, the anonymizer works pretty well, but I can observe two things to improve here:\n",
    "\n",
    "1. PNR - the PNR has unique pattern, which is not by default part of anonymizer recognizers. The value *LHKQK9* is not anonymized.\n",
    "2. E-TICKET. The E-Ticket has a unique pattern, which is not by default part of anonymizer recognizers. The value 160-4837291830 is detected as 160 -US_BANK_number\n",
    "\n",
    "\n",
    "The solution is simple: we need to add a new recognizers to the anonymizer. You can read more about it in \n",
    "[presidio documentation](https://microsoft.github.io/presidio/analyzer/adding_recognizers/).\n",
    "\n",
    "(https://microsoft.github.io/presidio/samples/python/customizing_presidio_analyzer/)\n",
    "\n",
    "Let's add new recognizers:"
   ]
  },
  {
   "cell_type": "code",
   "execution_count": 9,
   "id": "5cffda87",
   "metadata": {},
   "outputs": [],
   "source": [
    "from presidio_analyzer import Pattern, PatternRecognizer\n",
    "\n",
    "pnr_pattern = Pattern(\n",
    "    name=\"pnr_pattern\",\n",
    "    regex=\"\\\\b[A-Z0-9]{6}\\\\b\",\n",
    "    score=1,\n",
    ")\n",
    "\n",
    "ticket_patern = Pattern(\n",
    "    name=\"e-ticket_patern\",\n",
    "    regex=\"[0-9]{3}(-)?[0-9]{10}\",\n",
    "    score=1,\n",
    ")\n",
    "\n",
    "# Define the recognizer with one or more patterns\n",
    "ticket_recognizer = PatternRecognizer(\n",
    "    supported_entity=\"E-TICKET\", patterns=[ticket_patern]\n",
    ")\n",
    "# Define the recognizer with one or more patterns\n",
    "pnr_recognizer = PatternRecognizer(\n",
    "    supported_entity=\"PNR\", patterns=[pnr_pattern],context =[\"PNR\", \"PNRs\", \"PNRcodes\"]\n",
    ")\n",
    "anonymizer.add_recognizer(ticket_recognizer)\n",
    "anonymizer.add_recognizer(pnr_recognizer)\n"
   ]
  },
  {
   "cell_type": "markdown",
   "id": "128bd023",
   "metadata": {},
   "source": [
    "Note that our anonymization instance remembers previously detected and anonymized values, including those that were not detected correctly (e.g., PNR, E-TICKETs). So it's worth removing this value, or resetting the entire mapping now that our recognizers have been updated:"
   ]
  },
  {
   "cell_type": "code",
   "execution_count": 10,
   "id": "84904376",
   "metadata": {},
   "outputs": [],
   "source": [
    "anonymizer.reset_deanonymizer_mapping()"
   ]
  },
  {
   "cell_type": "code",
   "execution_count": 11,
   "id": "79771a50",
   "metadata": {},
   "outputs": [
    {
     "name": "stdout",
     "output_type": "stream",
     "text": [
      "Date: \u001b[31m<DATE_TIME>\u001b[0m\n",
      "Hello Customer Service,\n",
      "\n",
      "Subject: Claim Regarding Multiple Lost Luggages\n",
      "\n",
      "Hello Customer Service,\n",
      "\n",
      "I am writing to \u001b[31m<PNR>\u001b[0m the loss of multiple \u001b[31m<PNR_2>\u001b[0m of luggage associated with my \u001b[31m<PNR_3>\u001b[0m \u001b[31m<PNR_5>\u001b[0ms. Below, I'm providing you with the necessary details for each affected Passenger Name \u001b[31m<PNR_4>\u001b[0m (PNR).\n",
      "\n",
      "The \u001b[31m<PNR_5>\u001b[0m information and corresponding PNRs are as follows:\n",
      "\n",
      "\n",
      "1. PNR: \u001b[31m<PNR_6>\u001b[0m - E-\u001b[31m<PNR_7>\u001b[0m: \u001b[31m<E-TICKET>\u001b[0m\n",
      "2. PNR: \u001b[31m<PNR_8>\u001b[0m - E-\u001b[31m<PNR_7>\u001b[0m: \u001b[31m<E-TICKET_2>\u001b[0m\n",
      "\n",
      "My contact information remains the same: phone \u001b[31m<PNR_9>\u001b[0m \u001b[31m<PHONE_NUMBER>\u001b[0m and email \u001b[31m<EMAIL_ADDRESS>\u001b[0m.\n",
      "\n",
      "\u001b[31m<PNR_10>\u001b[0m treat this information with the \u001b[31m<PNR_11>\u001b[0m confidentiality and respect for my privacy. In case of any updates regarding my lost luggage, feel free to contact me via the provided phone \u001b[31m<PNR_9>\u001b[0m or email.\n",
      "\n",
      "Your \u001b[31m<PNR_12>\u001b[0m assistance in resolving this \u001b[31m<PNR_13>\u001b[0m is \u001b[31m<PNR_14>\u001b[0m appreciated.\n",
      "\n",
      "Thank you for your attention.\n",
      "\n",
      "Sincerely,\n",
      "\u001b[31m<PERSON>\u001b[0m\n",
      "\n",
      "\n"
     ]
    }
   ],
   "source": [
    "print_colored_pii(anonymizer.anonymize(document_content))"
   ]
  },
  {
   "cell_type": "markdown",
   "id": "ee2b27a8",
   "metadata": {},
   "source": [
    "#### As you can see, our new recognizers work as expected. The anonymizer has replaced the PNR and E-TICKET entities with the <PNR> and <E-TICKET> markers, and the deanonymizer mapping has been updated accordingly.\n",
    "#### Now, when all PII values are detected correctly, we can proceed to the next step, which is replacing the original values with synthetic ones. To do this, we need to set add_default_faker_operators=True (or just remove this parameter, because it's set to True by default):"
   ]
  },
  {
   "cell_type": "code",
   "execution_count": 12,
   "id": "22e789e6",
   "metadata": {},
   "outputs": [
    {
     "name": "stdout",
     "output_type": "stream",
     "text": [
      "{'DATE_TIME': {'<DATE_TIME>': 'October 19, 2021'},\n",
      " 'E-TICKET': {'<E-TICKET>': '123-4567890123', '<E-TICKET_2>': '234-5678901234'},\n",
      " 'EMAIL_ADDRESS': {'<EMAIL_ADDRESS>': 'johndoe@example.com'},\n",
      " 'PERSON': {'<PERSON>': 'John Doe'},\n",
      " 'PHONE_NUMBER': {'<PHONE_NUMBER>': '999-888-7777'},\n",
      " 'PNR': {'<PNR>': 'report',\n",
      "         '<PNR_10>': 'Please',\n",
      "         '<PNR_11>': 'utmost',\n",
      "         '<PNR_12>': 'prompt',\n",
      "         '<PNR_13>': 'matter',\n",
      "         '<PNR_14>': 'highly',\n",
      "         '<PNR_2>': 'pieces',\n",
      "         '<PNR_3>': 'recent',\n",
      "         '<PNR_4>': 'Record',\n",
      "         '<PNR_5>': 'flight',\n",
      "         '<PNR_6>': 'LHKQK9',\n",
      "         '<PNR_7>': 'ticket',\n",
      "         '<PNR_8>': 'RTKPP3',\n",
      "         '<PNR_9>': 'number'}}\n"
     ]
    }
   ],
   "source": [
    "pprint.pprint(anonymizer.deanonymizer_mapping)"
   ]
  },
  {
   "cell_type": "code",
   "execution_count": 13,
   "id": "17a2db06",
   "metadata": {},
   "outputs": [
    {
     "name": "stdout",
     "output_type": "stream",
     "text": [
      "Date: 2023-09-08\n",
      "Hello Customer Service,\n",
      "\n",
      "Subject: Claim Regarding Multiple Lost Luggages\n",
      "\n",
      "Hello Customer Service,\n",
      "\n",
      "I am writing to \u001b[31m<PNR>\u001b[0m the loss of multiple \u001b[31m<PNR_2>\u001b[0m of luggage associated with my \u001b[31m<PNR_3>\u001b[0m \u001b[31m<PNR_5>\u001b[0ms. Below, I'm providing you with the necessary details for each affected Passenger Name \u001b[31m<PNR_4>\u001b[0m (PNR).\n",
      "\n",
      "The \u001b[31m<PNR_5>\u001b[0m information and corresponding PNRs are as follows:\n",
      "\n",
      "\n",
      "1. PNR: \u001b[31m<PNR_6>\u001b[0m - E-\u001b[31m<PNR_7>\u001b[0m: \u001b[31m<E-TICKET>\u001b[0m\n",
      "2. PNR: \u001b[31m<PNR_8>\u001b[0m - E-\u001b[31m<PNR_7>\u001b[0m: \u001b[31m<E-TICKET_2>\u001b[0m\n",
      "\n",
      "My contact information remains the same: phone \u001b[31m<PNR_9>\u001b[0m 223-951-1615x594 and email jesseguzman@example.net.\n",
      "\n",
      "\u001b[31m<PNR_10>\u001b[0m treat this information with the \u001b[31m<PNR_11>\u001b[0m confidentiality and respect for my privacy. In case of any updates regarding my lost luggage, feel free to contact me via the provided phone \u001b[31m<PNR_9>\u001b[0m or email.\n",
      "\n",
      "Your \u001b[31m<PNR_12>\u001b[0m assistance in resolving this \u001b[31m<PNR_13>\u001b[0m is \u001b[31m<PNR_14>\u001b[0m appreciated.\n",
      "\n",
      "Thank you for your attention.\n",
      "\n",
      "Sincerely,\n",
      "Noah Rhodes\n",
      "\n",
      "\n"
     ]
    }
   ],
   "source": [
    "anonymizer = PresidioReversibleAnonymizer(\n",
    "    add_default_faker_operators=True,\n",
    "    # Faker seed is used here to make sure the same fake data is generated for the test purposes\n",
    "    # In production, it is recommended to remove the faker_seed parameter (it will default to None)\n",
    "    faker_seed=42,\n",
    ")\n",
    "\n",
    "anonymizer.add_recognizer(ticket_recognizer)\n",
    "anonymizer.add_recognizer(pnr_recognizer)\n",
    "\n",
    "print_colored_pii(anonymizer.anonymize(document_content))"
   ]
  },
  {
   "cell_type": "markdown",
   "id": "b4c92ba9",
   "metadata": {},
   "source": [
    "As you can see, almost all values have been replaced with synthetic ones. The only exception is the PNR the E-TICKET, which are not supported by the default faker operators. We can add new operators to the anonymizer, which will generate random data. "
   ]
  },
  {
   "cell_type": "code",
   "execution_count": 14,
   "id": "ba44fa4e",
   "metadata": {},
   "outputs": [
    {
     "data": {
      "text/plain": [
       "'E5Y886'"
      ]
     },
     "execution_count": 14,
     "metadata": {},
     "output_type": "execute_result"
    }
   ],
   "source": [
    "from faker import Faker\n",
    "\n",
    "fake = Faker()\n",
    "\n",
    "\n",
    "def fake_pnr(_=None):\n",
    "    return fake.bothify(text=\"?#?###\").upper()\n",
    "\n",
    "\n",
    "fake_pnr()"
   ]
  },
  {
   "cell_type": "code",
   "execution_count": 15,
   "id": "7a16ab2e",
   "metadata": {},
   "outputs": [],
   "source": [
    "def fake_e_ticket(_=None):\n",
    "    return fake.bothify(text=\"###-#########\").upper()\n"
   ]
  },
  {
   "cell_type": "markdown",
   "id": "dce71a2f",
   "metadata": {},
   "source": [
    "### Let's add newly created operators to the anonymizer:"
   ]
  },
  {
   "cell_type": "code",
   "execution_count": 21,
   "id": "96059d92",
   "metadata": {},
   "outputs": [],
   "source": [
    "from presidio_anonymizer.entities import OperatorConfig\n",
    "\n",
    "new_operators = {\n",
    "    \"PNR\": OperatorConfig(\"custom\", {\"lambda\": fake_pnr}),\n",
    "    \"E-TICKET\": OperatorConfig(\"custom\", {\"lambda\": fake_e_ticket}),\n",
    "}\n",
    "\n",
    "anonymizer.add_operators(new_operators)"
   ]
  },
  {
   "cell_type": "code",
   "execution_count": 22,
   "id": "18c46b56",
   "metadata": {},
   "outputs": [],
   "source": [
    "anonymizer.reset_deanonymizer_mapping()\n"
   ]
  },
  {
   "cell_type": "code",
   "execution_count": 26,
   "id": "71bdb92d",
   "metadata": {},
   "outputs": [
    {
     "name": "stdout",
     "output_type": "stream",
     "text": [
      "Date: 1982-01-04\n",
      "Hello Customer Service,\n",
      "\n",
      "Subject: Claim Regarding Multiple Lost Luggages\n",
      "\n",
      "Hello Customer Service,\n",
      "\n",
      "I am writing to Z7S384 the loss of multiple Z3Z307 of luggage associated with my C6Q820 V9Z145s. Below, I'm providing you with the necessary details for each affected Passenger Name K0R406 (PNR).\n",
      "\n",
      "The V9Z145 information and corresponding PNRs are as follows:\n",
      "\n",
      "\n",
      "1. PNR: J6Q760 - E-T4Z918: 064-665484954\n",
      "2. PNR: P4D120 - E-T4Z918: 650-391443869\n",
      "\n",
      "My contact information remains the same: phone H0Z465 973.460.2606x4746 and email jamesherrera@example.org.\n",
      "\n",
      "A8Z140 treat this information with the N3I129 confidentiality and respect for my privacy. In case of any updates regarding my lost luggage, feel free to contact me via the provided phone H0Z465 or email.\n",
      "\n",
      "Your E8F859 assistance in resolving this Y3O142 is N4F894 appreciated.\n",
      "\n",
      "Thank you for your attention.\n",
      "\n",
      "Sincerely,\n",
      "John Daniel\n",
      "\n",
      "\n"
     ]
    }
   ],
   "source": [
    "# let's anonymise once again \n",
    "anonymizer.reset_deanonymizer_mapping()\n",
    "print_colored_pii(anonymizer.anonymize(document_content))"
   ]
  },
  {
   "cell_type": "code",
   "execution_count": 27,
   "id": "c48a5252",
   "metadata": {},
   "outputs": [
    {
     "name": "stdout",
     "output_type": "stream",
     "text": [
      "{'DATE_TIME': {'1982-01-04': 'October 19, 2021'},\n",
      " 'E-TICKET': {'064-665484954': '123-4567890123',\n",
      "              '650-391443869': '234-5678901234'},\n",
      " 'EMAIL_ADDRESS': {'jamesherrera@example.org': 'johndoe@example.com'},\n",
      " 'PERSON': {'John Daniel': 'John Doe'},\n",
      " 'PHONE_NUMBER': {'973.460.2606x4746': '999-888-7777'},\n",
      " 'PNR': {'A8Z140': 'Please',\n",
      "         'C6Q820': 'recent',\n",
      "         'E8F859': 'prompt',\n",
      "         'H0Z465': 'number',\n",
      "         'J6Q760': 'LHKQK9',\n",
      "         'K0R406': 'Record',\n",
      "         'N3I129': 'utmost',\n",
      "         'N4F894': 'highly',\n",
      "         'P4D120': 'RTKPP3',\n",
      "         'T4Z918': 'ticket',\n",
      "         'V9Z145': 'flight',\n",
      "         'Y3O142': 'matter',\n",
      "         'Z3Z307': 'pieces',\n",
      "         'Z7S384': 'report'}}\n"
     ]
    }
   ],
   "source": [
    "pprint.pprint(anonymizer.deanonymizer_mapping)"
   ]
  },
  {
   "cell_type": "markdown",
   "id": "2d98d9d6",
   "metadata": {},
   "source": [
    "Voilà! Now all values are replaced with synthetic ones. Note that the deanonymizer mapping has been updated accordingly."
   ]
  },
  {
   "cell_type": "code",
   "execution_count": null,
   "id": "e0bbaf8f",
   "metadata": {},
   "outputs": [],
   "source": []
  }
 ],
 "metadata": {
  "kernelspec": {
   "display_name": ".venv",
   "language": "python",
   "name": "python3"
  },
  "language_info": {
   "codemirror_mode": {
    "name": "ipython",
    "version": 3
   },
   "file_extension": ".py",
   "mimetype": "text/x-python",
   "name": "python",
   "nbconvert_exporter": "python",
   "pygments_lexer": "ipython3",
   "version": "3.12.3"
  }
 },
 "nbformat": 4,
 "nbformat_minor": 5
}
